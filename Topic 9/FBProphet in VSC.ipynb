{
 "cells": [
  {
   "cell_type": "code",
   "execution_count": null,
   "metadata": {},
   "outputs": [],
   "source": [
    "#The problem of predicting the daily number of posts published on Medium. Prophet from Facebook."
   ]
  },
  {
   "cell_type": "code",
   "execution_count": 2,
   "metadata": {},
   "outputs": [
    {
     "name": "stdout",
     "output_type": "stream",
     "text": [
      "^C\n"
     ]
    }
   ],
   "source": [
    "#For fbprophet must be used PyStan. PyStan runs on Linux and macOS. I have a Windows:) You will also need a C++ compiler such as gcc ≥9.0 or clang ≥10.0.\n",
    "#Use Python 3.8 for conda. Запуск в python3.8 в  среде conda в visual studio code.\n",
    "#Use miniconda for python 3.8. There is no Anaconda for Python 3.11 yet. Will be in C:\\ProgramData\\miniconda3. Нужно указать в переменных среды.\n",
    "#The instruction is here - #https://pystan2.readthedocs.io/en/latest/windows.html#installing-pystan and here https://github.com/facebook/prophet#installation-in-python---development-version\n",
    "#In Powershell.\n",
    "#conda install libpython m2w64-toolchain -c msys2\n",
    "#conda install Cython\n",
    "#conda install pystan -c conda-forge\n",
    "\n",
    "\n",
    "#Using cmdstanpy with Windows requires a Unix-compatible C compiler such as mingw-gcc. If cmdstanpy is installed first, one can be installed via the cmdstanpy.install_cxx_toolchain command.\n",
    "#conda create -n cmdstan -c conda-forge cmdstanpy\n",
    "#conda install -c conda-forge cmdstanpy\n",
    "\n",
    "#conda install -c conda-forge fbprophet"
   ]
  },
  {
   "cell_type": "code",
   "execution_count": null,
   "metadata": {},
   "outputs": [],
   "source": [
    "#Test\n",
    "from fbprophet import Prophet\n",
    "m = Prophet()\n",
    "m.fit(df)  # df is a pandas.DataFrame with 'y' and 'ds' columns\n",
    "future = m.make_future_dataframe(periods=365)\n",
    "m.predict(future)"
   ]
  },
  {
   "cell_type": "code",
   "execution_count": null,
   "metadata": {},
   "outputs": [],
   "source": [
    "#On windows it did not work.... So I used Kaggle. Even ther were problems, And I used installed modules from https://www.kaggle.com/code/discdiver/testing-prophet-for-time-series-prediction"
   ]
  }
 ],
 "metadata": {
  "kernelspec": {
   "display_name": "Python 3.8.16 ('base')",
   "language": "python",
   "name": "python3"
  },
  "language_info": {
   "codemirror_mode": {
    "name": "ipython",
    "version": 3
   },
   "file_extension": ".py",
   "mimetype": "text/x-python",
   "name": "python",
   "nbconvert_exporter": "python",
   "pygments_lexer": "ipython3",
   "version": "3.8.16"
  },
  "orig_nbformat": 4,
  "vscode": {
   "interpreter": {
    "hash": "67bfac4f4aefe1c16f1836a62d55b6e6baa7aba1ac5ce70e93ee8e90eb4f073a"
   }
  }
 },
 "nbformat": 4,
 "nbformat_minor": 2
}
