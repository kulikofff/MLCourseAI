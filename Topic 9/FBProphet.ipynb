{
 "cells": [
  {
   "cell_type": "code",
   "execution_count": 1,
   "metadata": {},
   "outputs": [
    {
     "ename": "ModuleNotFoundError",
     "evalue": "No module named 'fbprophet'",
     "output_type": "error",
     "traceback": [
      "\u001b[1;31m---------------------------------------------------------------------------\u001b[0m",
      "\u001b[1;31mModuleNotFoundError\u001b[0m                       Traceback (most recent call last)",
      "Cell \u001b[1;32mIn[1], line 3\u001b[0m\n\u001b[0;32m      1\u001b[0m \u001b[38;5;66;03m#The problem of predicting the daily number of posts published on Medium. Prophet from Facebook.\u001b[39;00m\n\u001b[1;32m----> 3\u001b[0m \u001b[38;5;28;01mfrom\u001b[39;00m \u001b[38;5;21;01mfbprophet\u001b[39;00m \u001b[38;5;28;01mimport\u001b[39;00m Prophet\n\u001b[0;32m      4\u001b[0m m \u001b[38;5;241m=\u001b[39m Prophet()\n\u001b[0;32m      5\u001b[0m m\u001b[38;5;241m.\u001b[39mfit(df)  \u001b[38;5;66;03m# df is a pandas.DataFrame with 'y' and 'ds' columns\u001b[39;00m\n",
      "\u001b[1;31mModuleNotFoundError\u001b[0m: No module named 'fbprophet'"
     ]
    }
   ],
   "source": [
    "#The problem of predicting the daily number of posts published on Medium. Prophet from Facebook.\n",
    "from fbprophet import Prophet\n",
    "m = Prophet()\n",
    "m.fit(df)  # df is a pandas.DataFrame with 'y' and 'ds' columns\n",
    "future = m.make_future_dataframe(periods=365)\n",
    "m.predict(future)"
   ]
  },
  {
   "cell_type": "code",
   "execution_count": null,
   "metadata": {},
   "outputs": [],
   "source": [
    "!pip install Cython"
   ]
  },
  {
   "cell_type": "code",
   "execution_count": 2,
   "metadata": {},
   "outputs": [
    {
     "name": "stderr",
     "output_type": "stream",
     "text": [
      "  error: subprocess-exited-with-error\n",
      "  \n",
      "  × python setup.py egg_info did not run successfully.\n",
      "  │ exit code: 1\n",
      "  ╰─> [6 lines of output]\n",
      "      Traceback (most recent call last):\n",
      "        File \"<string>\", line 2, in <module>\n",
      "        File \"<pip-setuptools-caller>\", line 34, in <module>\n",
      "        File \"C:\\Users\\admin\\AppData\\Local\\Temp\\pip-install-igv1x7w6\\pystan_ba8ab4c0a8534f20bedd21d61b616aa0\\setup.py\", line 122, in <module>\n",
      "          from Cython.Build.Inline import _get_build_extension\n",
      "      ModuleNotFoundError: No module named 'Cython'\n",
      "      [end of output]\n",
      "  \n",
      "  note: This error originates from a subprocess, and is likely not a problem with pip.\n",
      "error: metadata-generation-failed\n",
      "\n",
      "× Encountered error while generating package metadata.\n",
      "╰─> See above for output.\n",
      "\n",
      "note: This is an issue with the package mentioned above, not pip.\n",
      "hint: See above for details.\n"
     ]
    },
    {
     "name": "stdout",
     "output_type": "stream",
     "text": [
      "Collecting fbprophet\n",
      "  Using cached fbprophet-0.7.1.tar.gz (64 kB)\n",
      "  Preparing metadata (setup.py): started\n",
      "  Preparing metadata (setup.py): finished with status 'done'\n",
      "Collecting Cython>=0.22\n",
      "  Using cached Cython-0.29.33-py2.py3-none-any.whl (987 kB)\n",
      "Collecting cmdstanpy==0.9.5\n",
      "  Using cached cmdstanpy-0.9.5-py3-none-any.whl (37 kB)\n",
      "Collecting pystan>=2.14\n",
      "  Using cached pystan-3.6.0-py3-none-any.whl (13 kB)\n",
      "Requirement already satisfied: numpy>=1.15.4 in e:\\kulikov\\ml\\mlcourseai\\mlcourseai\\.venv\\lib\\site-packages (from fbprophet) (1.24.2)\n",
      "Requirement already satisfied: pandas>=1.0.4 in e:\\kulikov\\ml\\mlcourseai\\mlcourseai\\.venv\\lib\\site-packages (from fbprophet) (1.5.3)\n",
      "Requirement already satisfied: matplotlib>=2.0.0 in e:\\kulikov\\ml\\mlcourseai\\mlcourseai\\.venv\\lib\\site-packages (from fbprophet) (3.7.0)\n",
      "Collecting LunarCalendar>=0.0.9\n",
      "  Using cached LunarCalendar-0.0.9-py2.py3-none-any.whl (18 kB)\n",
      "Collecting convertdate>=2.1.2\n",
      "  Using cached convertdate-2.4.0-py3-none-any.whl (47 kB)\n",
      "Collecting holidays>=0.10.2\n",
      "  Using cached holidays-0.19-py3-none-any.whl (208 kB)\n",
      "Collecting setuptools-git>=1.2\n",
      "  Using cached setuptools_git-1.2-py2.py3-none-any.whl (10 kB)\n",
      "Requirement already satisfied: python-dateutil>=2.8.0 in e:\\kulikov\\ml\\mlcourseai\\mlcourseai\\.venv\\lib\\site-packages (from fbprophet) (2.8.2)\n",
      "Requirement already satisfied: tqdm>=4.36.1 in e:\\kulikov\\ml\\mlcourseai\\mlcourseai\\.venv\\lib\\site-packages (from fbprophet) (4.64.1)\n",
      "Collecting pymeeus<=1,>=0.3.13\n",
      "  Using cached PyMeeus-0.5.12.tar.gz (5.8 MB)\n",
      "  Preparing metadata (setup.py): started\n",
      "  Preparing metadata (setup.py): finished with status 'done'\n",
      "Collecting hijri-converter\n",
      "  Using cached hijri_converter-2.2.4-py3-none-any.whl (14 kB)\n",
      "Collecting korean-lunar-calendar\n",
      "  Using cached korean_lunar_calendar-0.3.1-py3-none-any.whl (9.0 kB)\n",
      "Collecting ephem>=3.7.5.3\n",
      "  Using cached ephem-4.1.4.tar.gz (1.3 MB)\n",
      "  Preparing metadata (setup.py): started\n",
      "  Preparing metadata (setup.py): finished with status 'done'\n",
      "Requirement already satisfied: pytz in e:\\kulikov\\ml\\mlcourseai\\mlcourseai\\.venv\\lib\\site-packages (from LunarCalendar>=0.0.9->fbprophet) (2022.7.1)\n",
      "Requirement already satisfied: contourpy>=1.0.1 in e:\\kulikov\\ml\\mlcourseai\\mlcourseai\\.venv\\lib\\site-packages (from matplotlib>=2.0.0->fbprophet) (1.0.7)\n",
      "Requirement already satisfied: cycler>=0.10 in e:\\kulikov\\ml\\mlcourseai\\mlcourseai\\.venv\\lib\\site-packages (from matplotlib>=2.0.0->fbprophet) (0.11.0)\n",
      "Requirement already satisfied: fonttools>=4.22.0 in e:\\kulikov\\ml\\mlcourseai\\mlcourseai\\.venv\\lib\\site-packages (from matplotlib>=2.0.0->fbprophet) (4.38.0)\n",
      "Requirement already satisfied: kiwisolver>=1.0.1 in e:\\kulikov\\ml\\mlcourseai\\mlcourseai\\.venv\\lib\\site-packages (from matplotlib>=2.0.0->fbprophet) (1.4.4)\n",
      "Requirement already satisfied: packaging>=20.0 in e:\\kulikov\\ml\\mlcourseai\\mlcourseai\\.venv\\lib\\site-packages (from matplotlib>=2.0.0->fbprophet) (23.0)\n",
      "Requirement already satisfied: pillow>=6.2.0 in e:\\kulikov\\ml\\mlcourseai\\mlcourseai\\.venv\\lib\\site-packages (from matplotlib>=2.0.0->fbprophet) (9.4.0)\n",
      "Requirement already satisfied: pyparsing>=2.3.1 in e:\\kulikov\\ml\\mlcourseai\\mlcourseai\\.venv\\lib\\site-packages (from matplotlib>=2.0.0->fbprophet) (3.0.9)\n",
      "Collecting aiohttp<4.0,>=3.6\n",
      "  Using cached aiohttp-3.8.4-cp311-cp311-win_amd64.whl (317 kB)\n",
      "Collecting clikit<0.7,>=0.6\n",
      "  Using cached clikit-0.6.2-py2.py3-none-any.whl (91 kB)\n",
      "Collecting pystan>=2.14\n",
      "  Using cached pystan-3.5.0-py3-none-any.whl (13 kB)\n",
      "  Using cached pystan-3.4.0-py3-none-any.whl (13 kB)\n",
      "  Using cached pystan-3.3.0-py3-none-any.whl (13 kB)\n",
      "  Using cached pystan-3.2.0-py3-none-any.whl (13 kB)\n",
      "  Using cached pystan-3.1.1-py3-none-any.whl (13 kB)\n",
      "  Using cached pystan-3.1.0-py3-none-any.whl (13 kB)\n",
      "  Using cached pystan-3.0.2-py3-none-any.whl (13 kB)\n",
      "  Using cached pystan-3.0.1-py3-none-any.whl (12 kB)\n",
      "  Using cached pystan-3.0.0-py3-none-any.whl (12 kB)\n",
      "  Using cached pystan-2.19.1.1.tar.gz (16.2 MB)\n",
      "  Preparing metadata (setup.py): started\n",
      "  Preparing metadata (setup.py): finished with status 'error'\n"
     ]
    }
   ],
   "source": [
    "!pip install fbprophet"
   ]
  }
 ],
 "metadata": {
  "kernelspec": {
   "display_name": "Python 3.11.2 ('.venv': venv)",
   "language": "python",
   "name": "python3"
  },
  "language_info": {
   "codemirror_mode": {
    "name": "ipython",
    "version": 3
   },
   "file_extension": ".py",
   "mimetype": "text/x-python",
   "name": "python",
   "nbconvert_exporter": "python",
   "pygments_lexer": "ipython3",
   "version": "3.11.2"
  },
  "orig_nbformat": 4,
  "vscode": {
   "interpreter": {
    "hash": "288df7f25e36581787dd8e5ac5724da1da4b04fd97b34615f5cfffeb90a4c951"
   }
  }
 },
 "nbformat": 4,
 "nbformat_minor": 2
}
